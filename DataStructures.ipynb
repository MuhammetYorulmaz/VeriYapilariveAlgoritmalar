{
 "cells": [
  {
   "cell_type": "markdown",
   "id": "7f9a3dc9",
   "metadata": {},
   "source": [
    "# Giriş\n",
    "\n",
    "\n",
    "\n",
    "<div style=\"color:black;\n",
    "           display:fill;\n",
    "           border-radius:8px;\n",
    "           background-color:#f3f3e3;\n",
    "           font-size:130%;\n",
    "           font-family:Times New Roman;\n",
    "           letter-spacing:0.5px\">\n",
    "\n",
    "<p style=\"padding: 15px;\">\n",
    "    Bu notebookta, Veri Yapılarından bahsedilmiştir. \n",
    "    \n",
    "\n",
    "    \n",
    "    \n",
    "</p>\n",
    "</div>\n",
    "\n",
    "<font color = \"darkgreen\">\n",
    "    \n",
    "**İçerik:**\n",
    "\n",
    "    \n",
    "1. [](#1)\n",
    "2. [Ağaç Veri Modeli](#2)\n",
    "3. [Binary Tree](#3)\n",
    "    * [Binary Tree Türleri](#4)\n",
    "4. [Ağaçlarda Geçiş Türleri (Preorder,Inorder,Postorder,Levelorder)](#5)"
   ]
  },
  {
   "cell_type": "code",
   "execution_count": null,
   "id": "b2ae9b9b",
   "metadata": {},
   "outputs": [],
   "source": []
  },
  {
   "cell_type": "markdown",
   "id": "a21101ea",
   "metadata": {},
   "source": [
    "<a id = \"2\"></a><br>\n",
    "## Ağaç Veri Modeli"
   ]
  },
  {
   "cell_type": "markdown",
   "id": "3bb9ad98",
   "metadata": {},
   "source": [
    "**Ağaçlar/Trees**, verilerin birbirlerine bağlanmasıyla oluşturulan, ağaç yapısına benzer bir yapıya sahip veri modelleridir.[[]](http://www.cerenavci.com/veri-yapilari-agaclar/)"
   ]
  },
  {
   "cell_type": "markdown",
   "id": "c6d8af8f",
   "metadata": {},
   "source": [
    "**Ağacın Yapısı**\n",
    "* Bir ağacın her bir elemanına **node/düğüm** denir.\n",
    "    * Veriler node’larda tutulur.\n",
    "* Düğümler birbirlerine **edge/kenar/dal** ile bağlanır.\n",
    "    * Bu bağlantılar iki node arasındaki ilişkiyi gösterir\n",
    "    \n",
    "![](https://sites.google.com/site/furthermathsu34/_/rsrc/1400410049499/home/networks/undirected-graphs/Networks1.png)\n",
    "\n",
    "* Düğümler ağaca seviyeler oluşturacak şekilde yerleştirilirler, yani ağaçlar hiyerarşik bir yapıya sahiptir.\n",
    "    * Bu hiyerarşik yapının en tepesindeki düğüm; **root/kök**,\n",
    "    * En ucundaki, çocuğu olmayan düğümler; **leaf/yaprak**,\n",
    "    * Çocuğu olan düğümler; **parent/ebeveyn**, çocuklar ise **child/çocuk** olarak adlandırılır.\n",
    "    * Bir düğümün alt ağaçlarına **subtree** denir.\n",
    "    * Aynı parent’a sahip düğümler birbirlerinin **sibling/kardeş** node’larıdır.\n",
    "    * Bir düğümden köke kadar izlenen yoldaki diğer tüm düğümler, o düğümün **ancestor/atalarıdır**.\n",
    "    * Bir düğümün çocuklarına bağlı olan tüm düğümler, o düğümün **descendant/torunlarıdır**.\n",
    "![](https://scerenavci.files.wordpress.com/2016/11/tree-structure.gif?w=680)\n",
    "\n",
    "* Bir düğüme ulaşmak için üzerinden geçilen düğümler listesine **path/yol/iz** denir.\n",
    "\n",
    "* Düğümün **depth/derinliği**, o düğümden kök düğüme kadar olan yolun uzaklığıdır.\n",
    "* Bir ağacın **derinliği** kök düğümün en uçtaki yaprak düğüme olan uzaklığıyla ölçülür.\n",
    "* Düğümün **height/yüksekliği**, o düğümden kendisiyle ilişkili en uzak yaprak düğüme kadar giden yolun uzunluğudur.\n",
    "* Düğümün **level/düzey/seviyesi**, kök ve ilgili düğüm arasında bulunan düğümlerin sayısına eşittir.\n",
    "* Bir node’un **degree/derecesi**, çocuk sayısına eşittir.\n",
    "* Ağaçlar **döngü/cycle** içermezler.\n",
    "* Bir ağacın hiç düğümü yoksa, **boş/empty** tree olarak adlandırılır."
   ]
  },
  {
   "cell_type": "markdown",
   "id": "cc7be206",
   "metadata": {},
   "source": [
    "> `Örnek ile pekiştirelim`"
   ]
  },
  {
   "cell_type": "markdown",
   "id": "fc1e46c7",
   "metadata": {},
   "source": [
    "![](https://media.geeksforgeeks.org/wp-content/cdn-uploads/20201129105858/Tree-Basic-Terminology.png)"
   ]
  },
  {
   "cell_type": "markdown",
   "id": "639c954b",
   "metadata": {},
   "source": [
    "* **Root Node**: Tanıma göre **{1}** kök düğümdür.\n",
    "* **Parent Node**: **{2}, {6, 7}** öğesinin üst düğümüdür. Bu durumda **{2} {6,7}** düğümlerinin ebeveyni, **{3} {8,9,10}** düğümlerinin ebeveyni,**{5} {11,12,13}** düğümlerinin ebeveyni,**{7} {14}** düğümünün ebeveyni,**{10} {15,16}** düğümlerinin ebeveyni,**{13} {17,18,19}** düğümlerinin ebeveynidir.\n",
    "* **Child Node**: **{6, 7}, {2}** öğesinin alt düğümleridir. Bu durumda **{6,7} düğümleri {2}'nin çocuk düğümüdür.**\n",
    "* **Leaf Node**: Tanıma göre, ***{6, 14, 8, 9, 15, 16, 4, 11, 12, 17, 18, 19}** ağacın yaprak düğümleridir.\n",
    "* **Sibling**: Tanıma göre, **{6,7},{8, 9, 10},{15,16},{11,12,13},{17,18,19}** kardeş düğümlerdir. Çünkü aynı ebevyne ait düğümlerdir.\n",
    "* **Descendant**: Tanıma göre, **{7, 14} {2}**'nin torum düğünüdür.\n",
    "* **Ancestor**: **{1, 2}, {7}** düğümünün ata düğümleridir."
   ]
  },
  {
   "cell_type": "markdown",
   "id": "802bc816",
   "metadata": {},
   "source": [
    "<a id = \"3\"></a><br>\n",
    "## Binary Tree"
   ]
  },
  {
   "cell_type": "markdown",
   "id": "991c3257",
   "metadata": {},
   "source": [
    "En fazla 2 çocuğu olan bir ağaca **ikili ağaç** denir. İkili bir ağaçtaki her öğenin yalnızca **2 çocuğu** olabileceğinden, genellikle onlara **sol** ve **sağ** çocuk adını verimektedir[[]](https://www.geeksforgeeks.org/binary-tree-set-1-introduction/?ref=lbp)"
   ]
  },
  {
   "cell_type": "markdown",
   "id": "fafdd4e6",
   "metadata": {},
   "source": [
    "<a id = \"4\"></a><br>\n",
    "### Binary Tree Türleri"
   ]
  },
  {
   "cell_type": "markdown",
   "id": "c0cb4e2f",
   "metadata": {},
   "source": [
    "#### `Full Binary Tree`\n",
    "\n",
    "Yapraklar hariç her bir node’un iki çocuğu olmak zorundadır ve dolayısıyla tüm yaprakları aynı derinliktedir.\n",
    "\n",
    "**Not:** Her bir Full Binary Tree proper tree'dir. Ama her proper tree bir full binary tree değildir. \n",
    "\n",
    "* **`Proper`** -> Yaprak olmayan düğümlerin tümünün iki çoçuğu olan ağaçlardır. \n",
    "* **`Improper`** -> Yaprak olmayan düğümlerin tümünün iki çoçuğu olmaması durumunda oluşan ağaçlardır.\n"
   ]
  },
  {
   "cell_type": "markdown",
   "id": "afc33d88",
   "metadata": {},
   "source": [
    "![](https://scerenavci.files.wordpress.com/2016/11/fullbinary.jpg?w=300)"
   ]
  },
  {
   "cell_type": "markdown",
   "id": "02e9466c",
   "metadata": {},
   "source": [
    "**Not:** Full Binary Tree'de `n` tane yaprak varsa `2n-1` tane düğüm vardır. "
   ]
  },
  {
   "cell_type": "markdown",
   "id": "9e23261b",
   "metadata": {},
   "source": [
    "#### `Complete Binary Tree`\n",
    "\n",
    "Bir İkili Ağaç, muhtemelen son seviye hariç tüm seviyeler tamamen doldurulmuşsa ve son seviyede mümkün olduğunca sol tüm tuşlara sahipse, Komple İkili Ağaçtır.\n",
    "\n",
    "* Her node iki tane çocuğa sahip olmayabilir ve bazı yapraklar arasında derinlik farkı olabilir. Bu nedenle bir complete tree, full binary tree özelliği taşımayabilir.\n",
    "* Yapraklar arasındaki derinlik farkı en fazla 1’dir.\n"
   ]
  },
  {
   "cell_type": "markdown",
   "id": "abe32be6",
   "metadata": {},
   "source": [
    "                                                      Complete Binary Tree\n",
    "![](https://scerenavci.files.wordpress.com/2016/11/completebinary.jpg)"
   ]
  },
  {
   "cell_type": "markdown",
   "id": "a89d845a",
   "metadata": {},
   "source": [
    "                                                    Not full and complete tree\n",
    "![](https://scerenavci.files.wordpress.com/2016/11/not-full-and-binary.png)"
   ]
  },
  {
   "cell_type": "markdown",
   "id": "286b5c26",
   "metadata": {},
   "source": [
    "#### `Balanced Binary Tree`\n",
    "\n",
    "Her bir düğümün sol alt ağacının yüksekliği ile sağ alt ağacının yüksekliği arasında en çok 1 fark olmalıdır (Derinlik farkları).\n",
    "* Complete Binary Tree’ler aynı zamanda Balanced Binary Tree’dir ancak tam tersi durum her zaman doğru değildir."
   ]
  },
  {
   "cell_type": "markdown",
   "id": "16d33621",
   "metadata": {},
   "source": [
    "<a id = \"5\"></a><br>\n",
    "## Ağaçlarda Geçiş Türleri (Preorder,Inorder,Postorder,Levelorder)"
   ]
  },
  {
   "cell_type": "code",
   "execution_count": null,
   "id": "91960940",
   "metadata": {},
   "outputs": [],
   "source": []
  },
  {
   "cell_type": "markdown",
   "id": "0ec7bae5",
   "metadata": {},
   "source": [
    "## AVL Ağaçları"
   ]
  },
  {
   "cell_type": "code",
   "execution_count": null,
   "id": "6cfc9df7",
   "metadata": {},
   "outputs": [],
   "source": []
  }
 ],
 "metadata": {
  "kernelspec": {
   "display_name": "Python 3",
   "language": "python",
   "name": "python3"
  },
  "language_info": {
   "codemirror_mode": {
    "name": "ipython",
    "version": 3
   },
   "file_extension": ".py",
   "mimetype": "text/x-python",
   "name": "python",
   "nbconvert_exporter": "python",
   "pygments_lexer": "ipython3",
   "version": "3.8.8"
  }
 },
 "nbformat": 4,
 "nbformat_minor": 5
}
