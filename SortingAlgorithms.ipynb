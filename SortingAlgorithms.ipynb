{
 "cells": [
  {
   "cell_type": "markdown",
   "id": "2167e826",
   "metadata": {},
   "source": [
    "# Giriş\n",
    "\n",
    "\n",
    "\n",
    "<div style=\"color:black;\n",
    "           display:fill;\n",
    "           border-radius:8px;\n",
    "           background-color:#f3f3e3;\n",
    "           font-size:130%;\n",
    "           font-family:Times New Roman;\n",
    "           letter-spacing:0.5px\">\n",
    "\n",
    "<p style=\"padding: 15px;\">\n",
    "    Bu notebookta, Sıralama Algoritmalarından bahsedilmiştir. \n",
    "    \n",
    "\n",
    "    \n",
    "    \n",
    "</p>\n",
    "</div>\n",
    "\n",
    "<font color = \"darkgreen\">\n",
    "    \n",
    "**İçerik:**\n",
    "\n",
    "    \n",
    "1. [Sorting Algorithm (Sıralama Algoritmaları)](#1)\n",
    "    * [Selection Sort (Seçerek Sıralama)](#2)\n",
    "    * [Bubble Sort (Kabarcık Sıralaması)](#3)\n",
    "    * [Merge Sort (Birleştirme Sıralaması)](#4)\n",
    "    * [Insertion Sort (Eklemeli Sıralama)](#5)\n",
    "    "
   ]
  },
  {
   "cell_type": "markdown",
   "id": "df28f10c",
   "metadata": {},
   "source": [
    "*****\n",
    "<a id = \"1\"></a><br>\n",
    "## Sorting Algorithms (Sıralama Algoritmaları)"
   ]
  },
  {
   "cell_type": "markdown",
   "id": "563668af",
   "metadata": {},
   "source": [
    "Sıralama algoritmaları, isminden de anlaşılacağı üzere sahip olduğumuz veriyi en hızlı şekilde büyükten küçüğe ya da küçükten büyüğe bir sıraya sokmaktır. Bunun için kullanılan bir çok sıralama algoritması vardır. Bazısı çok hızlı ama yazımı zor, bazısı az sayıda veri için çok hızlı, bazısının da yazması kolaydır.\n",
    "\n",
    "`Sıralama algoritmalarının bazı kriterlere göre sınıflandırılabiliriz:`\n",
    "\n",
    "* __Bellek Kullanımı:__ Çalışırken ek bellek ihtiyacı duyan algoritmalarda kullanılabilecek bir ölçüttür buna ek olarak ayrıca da sıralama işleminin yapılması sırasında hafızanın kullanımına göre de sıralama algoritmaları; Harici sıralama (External Sort) ve Dahili Sıralama (Internal Sort).\n",
    "* __Hesaplama Karmaşıklığı:__ Oluşturulmuş olan algoritmanın yaptığı işlem sayısının genel bir yapı ile ifade edilmesidir. Temel üç grup ölçek kullanılır. Bunlar en iyi (best), ortalama (average) ve en kötü (worst) durumu olarak belirtilir. İşlem yoğunluğu zaman işleyişiyle paralel olduğundan (ne kadar çok işlem yapılırsa o kadar uzun süre geçer) algoritmanın işleyiş süresini de etkiler.\n",
    "* __Yerdeğiştirmenin Karmaşıklığı:__ İçerisinde ek bellek kullanmayan (in place) algoritmalarda kullanılan karşılaştırılabilmesi için önemli bir ölçüttür.\n",
    "* __Durağanlık(stability):__ Algoritmanın uygulanması sırasında sıralanmış bir verinin tekrar sıralamaya tabi tutulup tutulmadığını belirten ölçektir.\n",
    "* __Rekürsiflik:__ İç içe kendi kendini çağıran algoritmalarda kullanılan bir ölçüttür. Burada en önemli kriter stack dediğimiz maksimum iç içe çağırım kapasitesine dikkat edilmesi ve bu kapasitenin kullanılma sıklığıdır.\n",
    "\n",
    "`Fakat en önemli kriterler`\n",
    "\n",
    "* __Hafıza Verimliliği (Memory efficiency)__\n",
    "* __Zaman Verimliliği (Time efficiency)__\n",
    "\n",
    "Algoritma analizindeki iki önemli kriteri bunlardır. Bir algoritmanın hızlı çalışması demek daha çok hafızaya ihtiyaç duyması demektir. Tersi durumda da bir algoritmanın daha az yere ihtiyaç duyması daha yavaş çalışması demektir. `Bir algoritma hem zaman hem de hafıza olarak verimliyse bu durumda diğer algoritmalardan başarılı sayılabilir.` [[1]](https://www.halildurmus.com/2021/02/22/siralama-algoritmalari-sorting-algorithms/)"
   ]
  },
  {
   "cell_type": "markdown",
   "id": "3662931c",
   "metadata": {},
   "source": [
    "<a id = \"2\"></a><br>\n",
    "### Selection Sort (Seçerek Sıralama)"
   ]
  },
  {
   "cell_type": "markdown",
   "id": "b608c5f2",
   "metadata": {},
   "source": [
    "Verinin hafızada sıralı tutulması için geliştirilen sıralama algoritmalarından (sorting algorithms) bir tanesidir. Basitçe her adımda dizideki en küçük sayının nerede olduğu bulunur. Bu sayı ile dizinin başındaki sayı yer değiştirilerek en küçük sayılar seçilerek başa atılmış olur. [[2]](https://bilgisayarkavramlari.com/2008/08/09/secerek-siralama-selection-sort/)\n",
    "\n",
    "* [1, 2, 3, 10, 6, 4, 7] dizisi üzerinden örnek gösterecek olursak:\n",
    "    * görüldüğü üzere, 3. elemana kadar sıralanmış bir dizi mevcut. Bu durumda şu anda 4. eleman olan 10’a bakmaktayız ve kurala göre, 10’dan sonra gelen ve 10’dan küçük olan en küçük elemanı bulup 10 ile yerini değiştirmek gerekiyor. Bu adımda bu kurala uyan sayımız 4. Yerlerini değiştirdiğimizde dizimiz şu hale gelmekte:\n",
    "    * [1, 2, 3, **4**, 6, **10**, 7]\n",
    "    * Üçüncü elemana baktığımıza göre bir sonraki adımda da dördüncü elemana bakılması gerekmekte. Dizinin sonuna kadar böyle devam edip kural doğrultusunda tüm diziyi sıralamış olmaktayız.\n",
    "\n",
    "**Not:** Kalburüstü sıralama algoritmaları genellikle en kötü durumda O(n2) zaman almakta ve bu algoritma en iyi durumda bile O(n2) zaman aldığı için zaman açısından verimsiz bir algoritma olarak sınıflandırılabilmekte. En önemli avantajı bellek kullanımında O(1) ekstra alan kullanması. Bu avantajıyla da zaman açısından gerisinde kaldığı birçok gelişmiş algoritmayı geride bırakmaktadır. Birkaç elemandan oluşan dizileri sıralarken hızlı kod yazmak açısından bu algoritmayı kullanılabilir. [[3]](https://serdarkuzucu.com/siralama-algoritmalari/)"
   ]
  },
  {
   "cell_type": "markdown",
   "id": "167cd7b3",
   "metadata": {},
   "source": [
    "![](https://serdarkuzucu.com/assets/posts/selection-sort.jpg)"
   ]
  },
  {
   "cell_type": "markdown",
   "id": "81c5c771",
   "metadata": {},
   "source": [
    "> ***Örnek Gösterim***\n",
    "\n",
    "![](https://www.halildurmus.com/wp-content/uploads/2021/01/589-Selection-Sorting-Algorithms.gif)"
   ]
  },
  {
   "cell_type": "code",
   "execution_count": 15,
   "id": "01ac4b93",
   "metadata": {},
   "outputs": [
    {
     "name": "stdout",
     "output_type": "stream",
     "text": [
      "Sorted array is: [1, 2, 4, 5, 7, 8, 9]\n"
     ]
    }
   ],
   "source": [
    "#Kod\n",
    "class Solution:\n",
    "    def __init__(self,array):\n",
    "        self.array = array\n",
    "    def selectionSort(self):\n",
    "        \n",
    "        for i in range(len(self.array)):\n",
    "            enKucukIndex = i\n",
    "            \n",
    "            for j in range(i+1,len(self.array)):\n",
    "                if self.array[j] < self.array[enKucukIndex]:\n",
    "                    enKucukIndex = j\n",
    "                    \n",
    "            self.array[i],self.array[enKucukIndex] = self.array[enKucukIndex],self.array[i]\n",
    "        return self.array\n",
    "\n",
    "array = [7,4,5,9,8,2,1]\n",
    "getClass=Solution(array)\n",
    "lastArray=getClass.selectionSort()\n",
    "print(f\"Sorted array is: {lastArray}\")"
   ]
  },
  {
   "cell_type": "markdown",
   "id": "4028aa37",
   "metadata": {},
   "source": [
    "<a id = \"3\"></a><br>\n",
    "### Bubble Sort (Kabarcık Sıralaması)"
   ]
  },
  {
   "cell_type": "markdown",
   "id": "f021032c",
   "metadata": {},
   "source": [
    "Bubble Sort, bitişik öğelerin yanlış sırada olması durumunda art arda değiştirerek çalışan en basit sıralama algoritmasıdır. Bu algoritmanın karmaşıklığı oldukça yüksek olduğundan büyük veri kümeleri için uygun değildir.[[4]](https://www.geeksforgeeks.org/bubble-sort/)"
   ]
  },
  {
   "cell_type": "markdown",
   "id": "b8bb32d4",
   "metadata": {},
   "source": [
    "`İlk Geçiş:`\n",
    "* Kabarcık sıralama, hangi değerin daha büyük olduğunu kontrol etmek için ilk iki öğeyle başlar ve bunları karşılaştırır.\n",
    "    * (__5 1__ 4 2 8) –> (__1 5__ 4 2 8), Burada algoritma ilk iki elemanı karşılaştırır ve 5 > 1'den büyük olduğundan değerler yer değiştirir.\n",
    "    * (1 __5 4__ 2 8) –> (1 __4 5__ 2 8), 5 > 4 olduğundan değerler yer değiştirir.\n",
    "    * (1 4 __5 2__ 8) –> (1 4 __2 5__ 8), 5 > 2 olduğundan değerler yer değiştirir.\n",
    "    * (1 4 2 __5 8__) –> (1 4 2 __5 8__), bu elemanlar zaten sıralı (8> 5) olduğundan, algoritma değerlerin yerini değiştirmez. \n",
    "    \n",
    "`İkinci Geçiş:`\n",
    "* Şimdi, ikinci yineleme sırasında şekildeki adımlar görünmelidir:\n",
    "    * (__1 4__ 2 5 8) –> (__1 4__ 2 5 8) \n",
    "    * (1 __4 2__ 5 8) –> (1 __2 4__ 5 8), 4 > 2 olduğundan değerler yer değiştirir.\n",
    "    * (1 2 __4 5__ 8) –> (1 2 __4 5__ 8) \n",
    "    * (1 2 4 __5 8__) –> (1 2 4 __5 8__) \n",
    "    \n",
    "`Üçüncü Geçiş` \n",
    "* Dizi zaten sıralanmış ancak algoritmamız tamamlanıp tamamlanmadığını bilmemekte.\n",
    "* Algoritmanın sıralandığını bilmesi için herhangi bir değişim olmadan bir tam geçişe ihtiyacı vardır.\n",
    "    * (__1 2__ 4 5 8) –> (__1 2__ 4 5 8) \n",
    "    * (1 __2 4__ 5 8) –> (1 __2 4__ 5 8) \n",
    "    * (1 2 __4 5__ 8) –> (1 2 __4 5__ 8) \n",
    "    * (1 2 4 __5 8__) –> (1 2 4 __5 8__) \n",
    "    \n",
    "**Not:** Algoritma en kötü durumda O(n2) zaman almaktadır. Bellek kullanımında ise sadece O(1)’lik ek alana ihtiyaç duymaktadır. Küçük ve neredeyse sıralı olan dizilerde uygulanabilir fakat büyük dizilerde kesinlikle tavsiye edilmemektedir.[[5]](https://serdarkuzucu.com/siralama-algoritmalari/)"
   ]
  },
  {
   "cell_type": "markdown",
   "id": "3955a159",
   "metadata": {},
   "source": [
    "> ***Örnek Gösterim***\n",
    "\n",
    "![](https://upload.wikimedia.org/wikipedia/commons/2/2a/Bubble_sort_with_flag.gif)"
   ]
  },
  {
   "cell_type": "code",
   "execution_count": 10,
   "id": "29dd270b",
   "metadata": {},
   "outputs": [
    {
     "name": "stdout",
     "output_type": "stream",
     "text": [
      "Sorted array is: [12, 22, 25, 34, 64, 90, 98, 120]\n"
     ]
    }
   ],
   "source": [
    "# Kod\n",
    "class Solution:\n",
    "    def __init__(self,array):\n",
    "        self.array = array\n",
    "    def bubbleSort(self):\n",
    "        n=len(self.array) #listenin uzunluk değerini ata\n",
    "        \n",
    "        for i in range(n):\n",
    "            for j in range(n-1-i):\n",
    "                \n",
    "                if self.array[j]>self.array[j+1]: #liste içinde önce gelen indeksteki değer daha büyük ise\n",
    "                    self.array[j],self.array[j+1] = self.array[j+1],self.array[j]\n",
    "        return self.array\n",
    "    \n",
    "array=[64, 34, 25, 12, 22, 120, 90,98]\n",
    "getClass=Solution(array)\n",
    "lastArray=getClass.bubbleSort()\n",
    "print(f\"Sorted array is: {lastArray}\")"
   ]
  },
  {
   "cell_type": "markdown",
   "id": "8a2fd5e9",
   "metadata": {},
   "source": [
    "<a id = \"4\"></a><br>\n",
    "### Merge Sort (Birleştirme Sıralaması)"
   ]
  },
  {
   "cell_type": "markdown",
   "id": "919f9f57",
   "metadata": {},
   "source": [
    "Merge Sort (Birleştirme Sıralaması), diziyi ardışık olarak en küçük alt dizilerine kadar yarılayan sonra da onları sıraya koyarak bireştiren özyineli bir algoritmadır. Yarılama işlemi en büyük alt dizi en çok iki öğeli olana kadar sürer. Sonra \"Merge (Birleştirme)\" işlemiyle altdiziler ikişer ikişer bölünüş sırasıyla sıralı olarak bir üst dizide bireşir. Süreç sonunda en üstte sıralı diziye ulaşılır.\n",
    "\n",
    "`Algoritmanın çalışması kavramsal olarak şöyledir:`\n",
    "\n",
    "1. Sıralı olmayan diziyi ortadan eşit olarak iki alt diziye ayırır.\n",
    "2. Bu ayırma işlemi, alt diziler en çok iki elemanlı olana kadar devam eder.\n",
    "3. Alt dizileri kendi içinde sıralar.\n",
    "4. Sıralı iki alt diziyi tek bir sıralı dizi olacak şekilde birleştirir. [[6]](https://bidb.itu.edu.tr/seyir-defteri/blog/2013/09/08/merge-sort-(bile%C5%9Ftirme-s%C4%B1ralamas%C4%B1)-algoritmas%C4%B1)\n",
    "\n",
    "**Not:** Ortalama ve en kötü durumda hayatımızdan O(nlogn) zaman götürmektedir.[[7]](https://serdarkuzucu.com/siralama-algoritmalari/)"
   ]
  },
  {
   "cell_type": "markdown",
   "id": "3621e007",
   "metadata": {},
   "source": [
    "![](https://www.techiedelight.com/wp-content/uploads/Merge-Sort-Steps.png)"
   ]
  },
  {
   "cell_type": "markdown",
   "id": "050d3d23",
   "metadata": {},
   "source": [
    "> ***Örnek Gösterim***\n",
    "\n",
    "![](https://miro.medium.com/max/1575/1*UEYYPGUWSW94ZlxppvrhbA.gif)"
   ]
  },
  {
   "cell_type": "code",
   "execution_count": 2,
   "id": "9052a2e1",
   "metadata": {},
   "outputs": [],
   "source": [
    "# Kod"
   ]
  },
  {
   "cell_type": "markdown",
   "id": "7846155e",
   "metadata": {},
   "source": [
    "<a id = \"5\"></a><br>\n",
    "### Insertion Sort (Eklemeli Sıralama)"
   ]
  },
  {
   "cell_type": "markdown",
   "id": "a4b932b4",
   "metadata": {},
   "source": [
    "Insertion Sort, programlaması oldukça basit ancak performansı bölme sıralaması (merge sort), hızlı sıralama(quick sort) gibi sıralamalara göre nispeten yavaş bir sıralama algoritmasıdır.[[8]](https://bilgisayarkavramlari.com/2008/12/12/sokma-siralamasi-ekleme-siralamasi-insertion-sorting/)"
   ]
  },
  {
   "cell_type": "markdown",
   "id": "56e0858d",
   "metadata": {},
   "source": [
    "* **33 44 21 83 56 73 22**  örnek bir liste olsun. Bu sayıları sıralamak için ilk sayıdan başlanmakta(yani 33).\n",
    "\n",
    "`İlk Geçiş:`\n",
    "* Sadece 33 sayısı sıralanmış olmakta (yani hiçbirşey yapılmamaktadır):\n",
    "\n",
    "* **33|** 44 21 83 56 73 22 ( | işareti o ana kadar sıraladığımız sayıları göstermektedir. Bu işaretin `|` solundaki sayılar sıralanmış kabul edilmekte ve her geçişte bir sağındaki sayıyı alınmaktadır)\n",
    "\n",
    "`İkinci Geçiş:` \n",
    "* Sıralanacak sayı 44'tür. 33 ile 44'ü karşılaştırılmakta ve  33 küçük olduğundan değer yer değiştirmemektedir:\n",
    "    * **33 44 |** 21 83 56 73 22\n",
    "\n",
    "`Üçüncü Geçiş:`\n",
    "* Sıralanacak sayı 21'dir. 21 ile 44 karşılaştırılmakta ve 21 küçük olduğu için 44 ile yer değiştrimektedir:\n",
    "    * **33 21 44 |** 83 56 73 22 (geçişimiz henüz bitmedi çünkü 21, 33’ten de küçük)\n",
    "    * **21 33 44 |** 83 56 73 22 (şimdi 3. geçişi tamamladık ve bir sonraki sayı 83’ü alabiliriz)\n",
    "\n",
    "`Dördüncü Geçiş:`\n",
    "dördüncü geçişte 83 var:\n",
    "* Sıralanacak sayı 83'tür. \n",
    "    * **21 33 44 83 |** 56 73 22 ( bu geçiş çabuk bitti çünkü 83, 44’ten büyük ve sadece bunu görüp durma için yeterlidir.  Sonuç olarak 56’ya kadar sıralamış oldu.)\n",
    "\n",
    "`Beşinci Geçiş:`\n",
    "* Sıralanacak sayı 56'dır.\n",
    "    * **21 33 44 56 83 |** 73 22 ( burada 56 ile 83 karşılaştırıldı ve 56 sayısı 83’ün soluna kaydırıldı. Bunun sebebi 56’nın 83’ten küçük olması. Bu geçişte burada bitti çünkü 56, 44’ten büyüktür)\n",
    "\n",
    "`Altıncı Geçiş:`\n",
    "* Sıralanacak sayı 73'tür.\n",
    "    * **21 33 44 56 73 83 | 22** (Sıralama yine tek adımda bitmekte çünkü 73, 83’ten küçük ve 56’dan büyük durumdadır.)\n",
    "\n",
    "`Yedinci Geçiş:`\n",
    "* Son olarak 22 sayısını yerleştireceğiz ve adım adım 22’den küçük olan bir sayı görene kadar 22’yi dizide kaydıracağız\n",
    "    * 21 33 44 56 73 **22** 83 |\n",
    "    * 21 33 44 56 **22** 73 83 |\n",
    "    * 21 33 44 **22** 56 73 83 |\n",
    "    * 21 33 **22** 44 56 73 83 |\n",
    "    * 21 **22** 33 44 56 73 83 |\n",
    "\n",
    "Sonuçta işaret `|` dizinin sonuna ulaştı ve dizimiz sıralanmış oldu.\n",
    "\n",
    "__Not:__ Ekleme sıralamasının (insert sort) performansı O(n2)’dir. Bunun sebebi dizideki eleman sayısı kadar geçiş gerekmesi ve her geçişte en kötü ihtimalle elemsan sayısı kadar kaydırma gerekmesidir. Yani insertion sort’un en kötü durumu tersten sıralı bir listedir. Yukarıdaki örneği düşünecek olursak:\n",
    "\n",
    "    83 73 56 44 33 22 21 sıralamasındaki bir dizi en uzun sürede sıralanan dizidir. Buna karşılık sıralı bir dizi verildiğinde diziye 2n sayıda erişim erişim yeterlidir."
   ]
  },
  {
   "cell_type": "markdown",
   "id": "9e7f4770",
   "metadata": {},
   "source": [
    "> ***Örnek Gösterim***\n",
    "\n",
    "![](https://www.halildurmus.com/wp-content/uploads/2021/01/Insertion-Sort-Algorithms.gif)"
   ]
  },
  {
   "cell_type": "code",
   "execution_count": 7,
   "id": "8b8a3946",
   "metadata": {},
   "outputs": [
    {
     "name": "stdout",
     "output_type": "stream",
     "text": [
      "Sorted array is: [21, 22, 33, 44, 56, 73, 83]\n"
     ]
    }
   ],
   "source": [
    "# Kod\n",
    "class Solution:\n",
    "    def __init__(self,array):\n",
    "        self.array = array\n",
    "    def insertionSort(self):\n",
    "        \n",
    "        for i in range(1,len(self.array)): #Dizi içindeki ilk indeks hariç tüm indeksleri döndür\n",
    "            key = self.array[i] # İlk indeks hariç tüm indekslerin değerlerini değişkene ata\n",
    "            j = i-1 # Gelen indekslerin önceki değerini almasını için bir değişken tanımla\n",
    "            \n",
    "            while j>=0 and key< self.array[j]: #j indeksi 0 veya 0'dan büyük ve indeksteki veri önceki indeks değerinden kç ise\n",
    "                self.array[j+1] = self.array[j] # \n",
    "                j-=1\n",
    "            self.array[j+1]=key\n",
    "        \n",
    "        return self.array\n",
    "        \n",
    "array=[33, 44, 21, 83, 56, 73, 22]\n",
    "getClass=Solution(array)\n",
    "lastArray = getClass.insertionSort()\n",
    "print(f\"Sorted array is: {lastArray}\")"
   ]
  },
  {
   "cell_type": "markdown",
   "id": "fad256f3",
   "metadata": {},
   "source": [
    "### Quick Sort (Hızlı Sıralama)"
   ]
  },
  {
   "cell_type": "markdown",
   "id": "5940d2be",
   "metadata": {},
   "source": [
    "Hızlı sıralama algoritması, verilen dizinin ortasına yakın bir yerinden bir pivot eleman seçer ve pivottan büyük elemanları sağa, pivottan küçük elemanları sola kaydırır. Bu işlemi yaptıktan sonra pivot elemanın solundaki ve sağındaki dizilerden ayrı ayrı pivot elemanlar seçer ve o dizileri kendi içerisinde tekrar bu işleme tabi tutar. Rekürsif bir şekilde bu işlem devam ettikten sonra tüm dizi sıralanmış olur.\n",
    "\n",
    "* **5,7,2,9,6,1,4,7** sıraalnmak istenilen liste böyle olsun.\n",
    "\n",
    "`İlk Geçiş:`\n",
    "* Dizinin ortasındaki sayı bulunur. Bu örnekte 8 sayı olduğu için ortadaki sayı 4. elemandır. Bu elemanın değeri de 9’dur. Bu durum aslında biraz bahtsız bir durumdur çünkü tesadüfen dizideki en büyük sayıdır. Bu mesele 2. adımda ortaya çıkacaktır.\n",
    "\n",
    "`İkinci Geçiş:`\n",
    "* Diziden 1.adımda seçilen sayıya göre dizideki bütün elemanları küçük veya büyük diye sınıflandır. Tabi 1. adımda şanssız bir şekilde en büyük sayı seçildiği için bütün sayılar 9’dan küçük olarak sınıflandırılacaktır.\n",
    "    * **5,7,2,6,1,4,7 (9)** \n",
    "\n",
    "`Üçüncü Geçiş:`\n",
    "* Sınıflandırılanan küçük ve büyük dizileri tekrar hızlı sıralamaya verilir. Yani **5,7,2,6,1,4,7** dizisini aynı adımlarla tekrar sıralanır.\n",
    "\n",
    "`Dördüncü Geçiş:`\n",
    "* Eleman sayısı 7 ve ortadaki eleman 4. eleman olan 6 olur. Dizideki sayılar 6’dan büyük ve 6’dan küçük diye sınıflandırılırsa:\n",
    "    * **5,2,1,4 (6) 7,7** olarak iki grup elde edilir. Bu grupları da sıralamak üzere tekrar hızlı sıralama algoritmasına verilmekte. Dolayısıyla `5,2,1,4` sayıları ayrı `7,7` sayıları ayrı ayrı sıralanacaktır.\n",
    "\n",
    "`Beşinci Geçiş:`\n",
    "* **5,2,1,4** sayılarının orta değeri 2’dir ve sınıflandırılırsa:\n",
    "    * **1 (2) 4,5** bulunur. Aynı zamanda diğer dizi olan 7,7 sıralanırsa sonuç değişmez ve 7,7 bulunur.\n",
    "    \n",
    "`Altıncı Geçiş:`\n",
    "* 1 sıralanırsa 1 ve 4,5 sıralanırsa 4,5 bulunur.\n",
    "\n",
    "`Yedinci Geçiş:`\n",
    "* Bu adımdan sonra artık birleştirme işlemine geçilebilir. Buna göre 6. adımda sıralanan değerleri birleştirirsek :\n",
    "    * **1,2,4,5 değerleri elde edilir.**\n",
    "\n",
    "`Sekizinci Geçiş:`\n",
    "* 4. adımdaki sayılar birleştirilirse 1,2,4,5,(6),7,7 sayıları elde edilir.\n",
    "\n",
    "`Dokuzuncu Geçiş:`\n",
    "* 2. adımdaki sayılar birleştirilirse **1,2,4,5,6,7,7 (9)** olarak dizinin sıralanmış hali elde edilir.\n",
    "\n",
    "**Not:**Bu algoritma en kötü durumda O(n2), ortalamada ise O(nlogn) zaman alır. Bellek kullanımı olarak ise en kötü durumda O(n) ekstra alan kullanır ki bu da rekürsif olmasından kaynaklanır."
   ]
  },
  {
   "cell_type": "markdown",
   "id": "bb7edfa4",
   "metadata": {},
   "source": [
    "![](https://miro.medium.com/max/703/1*FDWQ9HQyjMg8m5BTeK_TWg.png)"
   ]
  },
  {
   "cell_type": "markdown",
   "id": "5da1e08c",
   "metadata": {},
   "source": [
    "> ***Örnek Gösterim***\n",
    "\n",
    "![](https://miro.medium.com/max/932/1*3lEL82yCH_-iaq46dji91w.gif)"
   ]
  },
  {
   "cell_type": "code",
   "execution_count": null,
   "id": "bc474cae",
   "metadata": {},
   "outputs": [],
   "source": [
    "#Kod"
   ]
  },
  {
   "cell_type": "markdown",
   "id": "5178c86b",
   "metadata": {},
   "source": [
    "### Shell Sort (Kabuk Sıralaması)"
   ]
  }
 ],
 "metadata": {
  "kernelspec": {
   "display_name": "Python 3",
   "language": "python",
   "name": "python3"
  },
  "language_info": {
   "codemirror_mode": {
    "name": "ipython",
    "version": 3
   },
   "file_extension": ".py",
   "mimetype": "text/x-python",
   "name": "python",
   "nbconvert_exporter": "python",
   "pygments_lexer": "ipython3",
   "version": "3.8.8"
  }
 },
 "nbformat": 4,
 "nbformat_minor": 5
}
